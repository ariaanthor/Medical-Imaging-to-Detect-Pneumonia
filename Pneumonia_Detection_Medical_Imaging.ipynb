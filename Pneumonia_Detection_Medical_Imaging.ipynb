{
  "nbformat": 4,
  "nbformat_minor": 0,
  "metadata": {
    "colab": {
      "name": "Pneumonia Detection - Medical Imaging.ipynb",
      "provenance": [],
      "collapsed_sections": [],
      "include_colab_link": true
    },
    "kernelspec": {
      "name": "python3",
      "display_name": "Python 3"
    },
    "accelerator": "GPU",
    "widgets": {
      "application/vnd.jupyter.widget-state+json": {
        "4ab7ab1392a840299bfb42335edfaf42": {
          "model_module": "@jupyter-widgets/controls",
          "model_name": "VBoxModel",
          "model_module_version": "1.5.0",
          "state": {
            "_view_name": "VBoxView",
            "_dom_classes": [
              "widget-interact"
            ],
            "_model_name": "VBoxModel",
            "_view_module": "@jupyter-widgets/controls",
            "_model_module_version": "1.5.0",
            "_view_count": null,
            "_view_module_version": "1.5.0",
            "box_style": "",
            "layout": "IPY_MODEL_348362beb0934fe0a4e68c5f762711fc",
            "_model_module": "@jupyter-widgets/controls",
            "children": [
              "IPY_MODEL_4cede9271c2447508a7095ade5cb0b8d",
              "IPY_MODEL_1a7e43bd3edd4f009b494f26e3174c5d"
            ]
          }
        },
        "348362beb0934fe0a4e68c5f762711fc": {
          "model_module": "@jupyter-widgets/base",
          "model_name": "LayoutModel",
          "model_module_version": "1.2.0",
          "state": {
            "_view_name": "LayoutView",
            "grid_template_rows": null,
            "right": null,
            "justify_content": null,
            "_view_module": "@jupyter-widgets/base",
            "overflow": null,
            "_model_module_version": "1.2.0",
            "_view_count": null,
            "flex_flow": null,
            "width": null,
            "min_width": null,
            "border": null,
            "align_items": null,
            "bottom": null,
            "_model_module": "@jupyter-widgets/base",
            "top": null,
            "grid_column": null,
            "overflow_y": null,
            "overflow_x": null,
            "grid_auto_flow": null,
            "grid_area": null,
            "grid_template_columns": null,
            "flex": null,
            "_model_name": "LayoutModel",
            "justify_items": null,
            "grid_row": null,
            "max_height": null,
            "align_content": null,
            "visibility": null,
            "align_self": null,
            "height": null,
            "min_height": null,
            "padding": null,
            "grid_auto_rows": null,
            "grid_gap": null,
            "max_width": null,
            "order": null,
            "_view_module_version": "1.2.0",
            "grid_template_areas": null,
            "object_position": null,
            "object_fit": null,
            "grid_auto_columns": null,
            "margin": null,
            "display": null,
            "left": null
          }
        },
        "4cede9271c2447508a7095ade5cb0b8d": {
          "model_module": "@jupyter-widgets/controls",
          "model_name": "IntSliderModel",
          "model_module_version": "1.5.0",
          "state": {
            "_view_name": "IntSliderView",
            "style": "IPY_MODEL_a4bccdbaef584cd4958dc47ab7dbe415",
            "_dom_classes": [],
            "description": "epoch",
            "step": 1,
            "_model_name": "IntSliderModel",
            "orientation": "horizontal",
            "max": 39,
            "_view_module": "@jupyter-widgets/controls",
            "_model_module_version": "1.5.0",
            "value": 15,
            "_view_count": null,
            "disabled": false,
            "_view_module_version": "1.5.0",
            "min": 0,
            "continuous_update": true,
            "readout_format": "d",
            "description_tooltip": null,
            "readout": true,
            "_model_module": "@jupyter-widgets/controls",
            "layout": "IPY_MODEL_249d644b906044be94e2b64872f08ece"
          }
        },
        "1a7e43bd3edd4f009b494f26e3174c5d": {
          "model_module": "@jupyter-widgets/output",
          "model_name": "OutputModel",
          "model_module_version": "1.0.0",
          "state": {
            "_view_name": "OutputView",
            "msg_id": "",
            "_dom_classes": [],
            "_model_name": "OutputModel",
            "outputs": [
              {
                "output_type": "display_data",
                "metadata": {
                  "tags": [],
                  "needs_background": "light"
                },
                "image/png": "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\n",
                "text/plain": "<Figure size 432x288 with 1 Axes>"
              }
            ],
            "_view_module": "@jupyter-widgets/output",
            "_model_module_version": "1.0.0",
            "_view_count": null,
            "_view_module_version": "1.0.0",
            "layout": "IPY_MODEL_61e3372e4b9140639223e41f06b1dec6",
            "_model_module": "@jupyter-widgets/output"
          }
        },
        "a4bccdbaef584cd4958dc47ab7dbe415": {
          "model_module": "@jupyter-widgets/controls",
          "model_name": "SliderStyleModel",
          "model_module_version": "1.5.0",
          "state": {
            "_view_name": "StyleView",
            "handle_color": null,
            "_model_name": "SliderStyleModel",
            "description_width": "",
            "_view_module": "@jupyter-widgets/base",
            "_model_module_version": "1.5.0",
            "_view_count": null,
            "_view_module_version": "1.2.0",
            "_model_module": "@jupyter-widgets/controls"
          }
        },
        "249d644b906044be94e2b64872f08ece": {
          "model_module": "@jupyter-widgets/base",
          "model_name": "LayoutModel",
          "model_module_version": "1.2.0",
          "state": {
            "_view_name": "LayoutView",
            "grid_template_rows": null,
            "right": null,
            "justify_content": null,
            "_view_module": "@jupyter-widgets/base",
            "overflow": null,
            "_model_module_version": "1.2.0",
            "_view_count": null,
            "flex_flow": null,
            "width": null,
            "min_width": null,
            "border": null,
            "align_items": null,
            "bottom": null,
            "_model_module": "@jupyter-widgets/base",
            "top": null,
            "grid_column": null,
            "overflow_y": null,
            "overflow_x": null,
            "grid_auto_flow": null,
            "grid_area": null,
            "grid_template_columns": null,
            "flex": null,
            "_model_name": "LayoutModel",
            "justify_items": null,
            "grid_row": null,
            "max_height": null,
            "align_content": null,
            "visibility": null,
            "align_self": null,
            "height": null,
            "min_height": null,
            "padding": null,
            "grid_auto_rows": null,
            "grid_gap": null,
            "max_width": null,
            "order": null,
            "_view_module_version": "1.2.0",
            "grid_template_areas": null,
            "object_position": null,
            "object_fit": null,
            "grid_auto_columns": null,
            "margin": null,
            "display": null,
            "left": null
          }
        },
        "61e3372e4b9140639223e41f06b1dec6": {
          "model_module": "@jupyter-widgets/base",
          "model_name": "LayoutModel",
          "model_module_version": "1.2.0",
          "state": {
            "_view_name": "LayoutView",
            "grid_template_rows": null,
            "right": null,
            "justify_content": null,
            "_view_module": "@jupyter-widgets/base",
            "overflow": null,
            "_model_module_version": "1.2.0",
            "_view_count": null,
            "flex_flow": null,
            "width": null,
            "min_width": null,
            "border": null,
            "align_items": null,
            "bottom": null,
            "_model_module": "@jupyter-widgets/base",
            "top": null,
            "grid_column": null,
            "overflow_y": null,
            "overflow_x": null,
            "grid_auto_flow": null,
            "grid_area": null,
            "grid_template_columns": null,
            "flex": null,
            "_model_name": "LayoutModel",
            "justify_items": null,
            "grid_row": null,
            "max_height": null,
            "align_content": null,
            "visibility": null,
            "align_self": null,
            "height": null,
            "min_height": null,
            "padding": null,
            "grid_auto_rows": null,
            "grid_gap": null,
            "max_width": null,
            "order": null,
            "_view_module_version": "1.2.0",
            "grid_template_areas": null,
            "object_position": null,
            "object_fit": null,
            "grid_auto_columns": null,
            "margin": null,
            "display": null,
            "left": null
          }
        },
        "4c0ca1238a7a4c1d8fc8de1f0bfdebed": {
          "model_module": "@jupyter-widgets/controls",
          "model_name": "VBoxModel",
          "model_module_version": "1.5.0",
          "state": {
            "_view_name": "VBoxView",
            "_dom_classes": [
              "widget-interact"
            ],
            "_model_name": "VBoxModel",
            "_view_module": "@jupyter-widgets/controls",
            "_model_module_version": "1.5.0",
            "_view_count": null,
            "_view_module_version": "1.5.0",
            "box_style": "",
            "layout": "IPY_MODEL_3f44594485de4f97a1c83ea21c2f66bd",
            "_model_module": "@jupyter-widgets/controls",
            "children": [
              "IPY_MODEL_c2ed023143a74eb3b7deb2551f820990",
              "IPY_MODEL_efe5a6023bcb479e8644e8b4273ff021"
            ]
          }
        },
        "3f44594485de4f97a1c83ea21c2f66bd": {
          "model_module": "@jupyter-widgets/base",
          "model_name": "LayoutModel",
          "model_module_version": "1.2.0",
          "state": {
            "_view_name": "LayoutView",
            "grid_template_rows": null,
            "right": null,
            "justify_content": null,
            "_view_module": "@jupyter-widgets/base",
            "overflow": null,
            "_model_module_version": "1.2.0",
            "_view_count": null,
            "flex_flow": null,
            "width": null,
            "min_width": null,
            "border": null,
            "align_items": null,
            "bottom": null,
            "_model_module": "@jupyter-widgets/base",
            "top": null,
            "grid_column": null,
            "overflow_y": null,
            "overflow_x": null,
            "grid_auto_flow": null,
            "grid_area": null,
            "grid_template_columns": null,
            "flex": null,
            "_model_name": "LayoutModel",
            "justify_items": null,
            "grid_row": null,
            "max_height": null,
            "align_content": null,
            "visibility": null,
            "align_self": null,
            "height": null,
            "min_height": null,
            "padding": null,
            "grid_auto_rows": null,
            "grid_gap": null,
            "max_width": null,
            "order": null,
            "_view_module_version": "1.2.0",
            "grid_template_areas": null,
            "object_position": null,
            "object_fit": null,
            "grid_auto_columns": null,
            "margin": null,
            "display": null,
            "left": null
          }
        },
        "c2ed023143a74eb3b7deb2551f820990": {
          "model_module": "@jupyter-widgets/controls",
          "model_name": "IntSliderModel",
          "model_module_version": "1.5.0",
          "state": {
            "_view_name": "IntSliderView",
            "style": "IPY_MODEL_3638de72a4c442f6adb868484690ba3b",
            "_dom_classes": [],
            "description": "epoch",
            "step": 1,
            "_model_name": "IntSliderModel",
            "orientation": "horizontal",
            "max": 39,
            "_view_module": "@jupyter-widgets/controls",
            "_model_module_version": "1.5.0",
            "value": 39,
            "_view_count": null,
            "disabled": false,
            "_view_module_version": "1.5.0",
            "min": 0,
            "continuous_update": true,
            "readout_format": "d",
            "description_tooltip": null,
            "readout": true,
            "_model_module": "@jupyter-widgets/controls",
            "layout": "IPY_MODEL_b44d5540e2b14b94aac191049d7d0eba"
          }
        },
        "efe5a6023bcb479e8644e8b4273ff021": {
          "model_module": "@jupyter-widgets/output",
          "model_name": "OutputModel",
          "model_module_version": "1.0.0",
          "state": {
            "_view_name": "OutputView",
            "msg_id": "",
            "_dom_classes": [],
            "_model_name": "OutputModel",
            "outputs": [
              {
                "output_type": "display_data",
                "metadata": {
                  "tags": [],
                  "needs_background": "light"
                },
                "image/png": "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\n",
                "text/plain": "<Figure size 432x288 with 1 Axes>"
              }
            ],
            "_view_module": "@jupyter-widgets/output",
            "_model_module_version": "1.0.0",
            "_view_count": null,
            "_view_module_version": "1.0.0",
            "layout": "IPY_MODEL_f783d88a7ac94ece97606b662095ca0c",
            "_model_module": "@jupyter-widgets/output"
          }
        },
        "3638de72a4c442f6adb868484690ba3b": {
          "model_module": "@jupyter-widgets/controls",
          "model_name": "SliderStyleModel",
          "model_module_version": "1.5.0",
          "state": {
            "_view_name": "StyleView",
            "handle_color": null,
            "_model_name": "SliderStyleModel",
            "description_width": "",
            "_view_module": "@jupyter-widgets/base",
            "_model_module_version": "1.5.0",
            "_view_count": null,
            "_view_module_version": "1.2.0",
            "_model_module": "@jupyter-widgets/controls"
          }
        },
        "b44d5540e2b14b94aac191049d7d0eba": {
          "model_module": "@jupyter-widgets/base",
          "model_name": "LayoutModel",
          "model_module_version": "1.2.0",
          "state": {
            "_view_name": "LayoutView",
            "grid_template_rows": null,
            "right": null,
            "justify_content": null,
            "_view_module": "@jupyter-widgets/base",
            "overflow": null,
            "_model_module_version": "1.2.0",
            "_view_count": null,
            "flex_flow": null,
            "width": null,
            "min_width": null,
            "border": null,
            "align_items": null,
            "bottom": null,
            "_model_module": "@jupyter-widgets/base",
            "top": null,
            "grid_column": null,
            "overflow_y": null,
            "overflow_x": null,
            "grid_auto_flow": null,
            "grid_area": null,
            "grid_template_columns": null,
            "flex": null,
            "_model_name": "LayoutModel",
            "justify_items": null,
            "grid_row": null,
            "max_height": null,
            "align_content": null,
            "visibility": null,
            "align_self": null,
            "height": null,
            "min_height": null,
            "padding": null,
            "grid_auto_rows": null,
            "grid_gap": null,
            "max_width": null,
            "order": null,
            "_view_module_version": "1.2.0",
            "grid_template_areas": null,
            "object_position": null,
            "object_fit": null,
            "grid_auto_columns": null,
            "margin": null,
            "display": null,
            "left": null
          }
        },
        "f783d88a7ac94ece97606b662095ca0c": {
          "model_module": "@jupyter-widgets/base",
          "model_name": "LayoutModel",
          "model_module_version": "1.2.0",
          "state": {
            "_view_name": "LayoutView",
            "grid_template_rows": null,
            "right": null,
            "justify_content": null,
            "_view_module": "@jupyter-widgets/base",
            "overflow": null,
            "_model_module_version": "1.2.0",
            "_view_count": null,
            "flex_flow": null,
            "width": null,
            "min_width": null,
            "border": null,
            "align_items": null,
            "bottom": null,
            "_model_module": "@jupyter-widgets/base",
            "top": null,
            "grid_column": null,
            "overflow_y": null,
            "overflow_x": null,
            "grid_auto_flow": null,
            "grid_area": null,
            "grid_template_columns": null,
            "flex": null,
            "_model_name": "LayoutModel",
            "justify_items": null,
            "grid_row": null,
            "max_height": null,
            "align_content": null,
            "visibility": null,
            "align_self": null,
            "height": null,
            "min_height": null,
            "padding": null,
            "grid_auto_rows": null,
            "grid_gap": null,
            "max_width": null,
            "order": null,
            "_view_module_version": "1.2.0",
            "grid_template_areas": null,
            "object_position": null,
            "object_fit": null,
            "grid_auto_columns": null,
            "margin": null,
            "display": null,
            "left": null
          }
        },
        "1b076227ad3c439e9955e31bfb1746c7": {
          "model_module": "@jupyter-widgets/controls",
          "model_name": "VBoxModel",
          "model_module_version": "1.5.0",
          "state": {
            "_view_name": "VBoxView",
            "_dom_classes": [
              "widget-interact"
            ],
            "_model_name": "VBoxModel",
            "_view_module": "@jupyter-widgets/controls",
            "_model_module_version": "1.5.0",
            "_view_count": null,
            "_view_module_version": "1.5.0",
            "box_style": "",
            "layout": "IPY_MODEL_e4c2517474d54bdcb307c4b22aec0a70",
            "_model_module": "@jupyter-widgets/controls",
            "children": [
              "IPY_MODEL_04df85343ed54c41b1f3af81cc92c4f3",
              "IPY_MODEL_1ab4ec5c221b4a6ea58e928214af8082"
            ]
          }
        },
        "e4c2517474d54bdcb307c4b22aec0a70": {
          "model_module": "@jupyter-widgets/base",
          "model_name": "LayoutModel",
          "model_module_version": "1.2.0",
          "state": {
            "_view_name": "LayoutView",
            "grid_template_rows": null,
            "right": null,
            "justify_content": null,
            "_view_module": "@jupyter-widgets/base",
            "overflow": null,
            "_model_module_version": "1.2.0",
            "_view_count": null,
            "flex_flow": null,
            "width": null,
            "min_width": null,
            "border": null,
            "align_items": null,
            "bottom": null,
            "_model_module": "@jupyter-widgets/base",
            "top": null,
            "grid_column": null,
            "overflow_y": null,
            "overflow_x": null,
            "grid_auto_flow": null,
            "grid_area": null,
            "grid_template_columns": null,
            "flex": null,
            "_model_name": "LayoutModel",
            "justify_items": null,
            "grid_row": null,
            "max_height": null,
            "align_content": null,
            "visibility": null,
            "align_self": null,
            "height": null,
            "min_height": null,
            "padding": null,
            "grid_auto_rows": null,
            "grid_gap": null,
            "max_width": null,
            "order": null,
            "_view_module_version": "1.2.0",
            "grid_template_areas": null,
            "object_position": null,
            "object_fit": null,
            "grid_auto_columns": null,
            "margin": null,
            "display": null,
            "left": null
          }
        },
        "04df85343ed54c41b1f3af81cc92c4f3": {
          "model_module": "@jupyter-widgets/controls",
          "model_name": "IntSliderModel",
          "model_module_version": "1.5.0",
          "state": {
            "_view_name": "IntSliderView",
            "style": "IPY_MODEL_6c5f54d675dd4fd6a961d53f342548a8",
            "_dom_classes": [],
            "description": "epoch",
            "step": 1,
            "_model_name": "IntSliderModel",
            "orientation": "horizontal",
            "max": 39,
            "_view_module": "@jupyter-widgets/controls",
            "_model_module_version": "1.5.0",
            "value": 19,
            "_view_count": null,
            "disabled": false,
            "_view_module_version": "1.5.0",
            "min": 0,
            "continuous_update": true,
            "readout_format": "d",
            "description_tooltip": null,
            "readout": true,
            "_model_module": "@jupyter-widgets/controls",
            "layout": "IPY_MODEL_d7bf009b4c984d5b8470c584960cfcc6"
          }
        },
        "1ab4ec5c221b4a6ea58e928214af8082": {
          "model_module": "@jupyter-widgets/output",
          "model_name": "OutputModel",
          "model_module_version": "1.0.0",
          "state": {
            "_view_name": "OutputView",
            "msg_id": "",
            "_dom_classes": [],
            "_model_name": "OutputModel",
            "outputs": [
              {
                "output_type": "display_data",
                "metadata": {
                  "tags": [],
                  "needs_background": "light"
                },
                "image/png": "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\n",
                "text/plain": "<Figure size 432x288 with 1 Axes>"
              }
            ],
            "_view_module": "@jupyter-widgets/output",
            "_model_module_version": "1.0.0",
            "_view_count": null,
            "_view_module_version": "1.0.0",
            "layout": "IPY_MODEL_046b3fb4ceab4dae8db0fc21e6e43f22",
            "_model_module": "@jupyter-widgets/output"
          }
        },
        "6c5f54d675dd4fd6a961d53f342548a8": {
          "model_module": "@jupyter-widgets/controls",
          "model_name": "SliderStyleModel",
          "model_module_version": "1.5.0",
          "state": {
            "_view_name": "StyleView",
            "handle_color": null,
            "_model_name": "SliderStyleModel",
            "description_width": "",
            "_view_module": "@jupyter-widgets/base",
            "_model_module_version": "1.5.0",
            "_view_count": null,
            "_view_module_version": "1.2.0",
            "_model_module": "@jupyter-widgets/controls"
          }
        },
        "d7bf009b4c984d5b8470c584960cfcc6": {
          "model_module": "@jupyter-widgets/base",
          "model_name": "LayoutModel",
          "model_module_version": "1.2.0",
          "state": {
            "_view_name": "LayoutView",
            "grid_template_rows": null,
            "right": null,
            "justify_content": null,
            "_view_module": "@jupyter-widgets/base",
            "overflow": null,
            "_model_module_version": "1.2.0",
            "_view_count": null,
            "flex_flow": null,
            "width": null,
            "min_width": null,
            "border": null,
            "align_items": null,
            "bottom": null,
            "_model_module": "@jupyter-widgets/base",
            "top": null,
            "grid_column": null,
            "overflow_y": null,
            "overflow_x": null,
            "grid_auto_flow": null,
            "grid_area": null,
            "grid_template_columns": null,
            "flex": null,
            "_model_name": "LayoutModel",
            "justify_items": null,
            "grid_row": null,
            "max_height": null,
            "align_content": null,
            "visibility": null,
            "align_self": null,
            "height": null,
            "min_height": null,
            "padding": null,
            "grid_auto_rows": null,
            "grid_gap": null,
            "max_width": null,
            "order": null,
            "_view_module_version": "1.2.0",
            "grid_template_areas": null,
            "object_position": null,
            "object_fit": null,
            "grid_auto_columns": null,
            "margin": null,
            "display": null,
            "left": null
          }
        },
        "046b3fb4ceab4dae8db0fc21e6e43f22": {
          "model_module": "@jupyter-widgets/base",
          "model_name": "LayoutModel",
          "model_module_version": "1.2.0",
          "state": {
            "_view_name": "LayoutView",
            "grid_template_rows": null,
            "right": null,
            "justify_content": null,
            "_view_module": "@jupyter-widgets/base",
            "overflow": null,
            "_model_module_version": "1.2.0",
            "_view_count": null,
            "flex_flow": null,
            "width": null,
            "min_width": null,
            "border": null,
            "align_items": null,
            "bottom": null,
            "_model_module": "@jupyter-widgets/base",
            "top": null,
            "grid_column": null,
            "overflow_y": null,
            "overflow_x": null,
            "grid_auto_flow": null,
            "grid_area": null,
            "grid_template_columns": null,
            "flex": null,
            "_model_name": "LayoutModel",
            "justify_items": null,
            "grid_row": null,
            "max_height": null,
            "align_content": null,
            "visibility": null,
            "align_self": null,
            "height": null,
            "min_height": null,
            "padding": null,
            "grid_auto_rows": null,
            "grid_gap": null,
            "max_width": null,
            "order": null,
            "_view_module_version": "1.2.0",
            "grid_template_areas": null,
            "object_position": null,
            "object_fit": null,
            "grid_auto_columns": null,
            "margin": null,
            "display": null,
            "left": null
          }
        },
        "b98b05a925ff47f085513067af93e697": {
          "model_module": "@jupyter-widgets/controls",
          "model_name": "VBoxModel",
          "model_module_version": "1.5.0",
          "state": {
            "_view_name": "VBoxView",
            "_dom_classes": [
              "widget-interact"
            ],
            "_model_name": "VBoxModel",
            "_view_module": "@jupyter-widgets/controls",
            "_model_module_version": "1.5.0",
            "_view_count": null,
            "_view_module_version": "1.5.0",
            "box_style": "",
            "layout": "IPY_MODEL_a59b13494fa24b00bda67234bfbffe17",
            "_model_module": "@jupyter-widgets/controls",
            "children": [
              "IPY_MODEL_7dc64be1ab574f8ba58b95020962655f",
              "IPY_MODEL_1274313a6861438f9acfb4b962847883"
            ]
          }
        },
        "a59b13494fa24b00bda67234bfbffe17": {
          "model_module": "@jupyter-widgets/base",
          "model_name": "LayoutModel",
          "model_module_version": "1.2.0",
          "state": {
            "_view_name": "LayoutView",
            "grid_template_rows": null,
            "right": null,
            "justify_content": null,
            "_view_module": "@jupyter-widgets/base",
            "overflow": null,
            "_model_module_version": "1.2.0",
            "_view_count": null,
            "flex_flow": null,
            "width": null,
            "min_width": null,
            "border": null,
            "align_items": null,
            "bottom": null,
            "_model_module": "@jupyter-widgets/base",
            "top": null,
            "grid_column": null,
            "overflow_y": null,
            "overflow_x": null,
            "grid_auto_flow": null,
            "grid_area": null,
            "grid_template_columns": null,
            "flex": null,
            "_model_name": "LayoutModel",
            "justify_items": null,
            "grid_row": null,
            "max_height": null,
            "align_content": null,
            "visibility": null,
            "align_self": null,
            "height": null,
            "min_height": null,
            "padding": null,
            "grid_auto_rows": null,
            "grid_gap": null,
            "max_width": null,
            "order": null,
            "_view_module_version": "1.2.0",
            "grid_template_areas": null,
            "object_position": null,
            "object_fit": null,
            "grid_auto_columns": null,
            "margin": null,
            "display": null,
            "left": null
          }
        },
        "7dc64be1ab574f8ba58b95020962655f": {
          "model_module": "@jupyter-widgets/controls",
          "model_name": "IntSliderModel",
          "model_module_version": "1.5.0",
          "state": {
            "_view_name": "IntSliderView",
            "style": "IPY_MODEL_82d2939480614ef5b2c7bcb382650bc5",
            "_dom_classes": [],
            "description": "i",
            "step": 1,
            "_model_name": "IntSliderModel",
            "orientation": "horizontal",
            "max": 53,
            "_view_module": "@jupyter-widgets/controls",
            "_model_module_version": "1.5.0",
            "value": 26,
            "_view_count": null,
            "disabled": false,
            "_view_module_version": "1.5.0",
            "min": 0,
            "continuous_update": true,
            "readout_format": "d",
            "description_tooltip": null,
            "readout": true,
            "_model_module": "@jupyter-widgets/controls",
            "layout": "IPY_MODEL_3213f5a3e067455ea13fabd76d9316f6"
          }
        },
        "1274313a6861438f9acfb4b962847883": {
          "model_module": "@jupyter-widgets/output",
          "model_name": "OutputModel",
          "model_module_version": "1.0.0",
          "state": {
            "_view_name": "OutputView",
            "msg_id": "",
            "_dom_classes": [],
            "_model_name": "OutputModel",
            "outputs": [
              {
                "output_type": "display_data",
                "metadata": {
                  "tags": [],
                  "needs_background": "light"
                },
                "image/png": "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\n",
                "text/plain": "<Figure size 432x288 with 3 Axes>"
              }
            ],
            "_view_module": "@jupyter-widgets/output",
            "_model_module_version": "1.0.0",
            "_view_count": null,
            "_view_module_version": "1.0.0",
            "layout": "IPY_MODEL_6692f80377e444c7a616caab1da12e01",
            "_model_module": "@jupyter-widgets/output"
          }
        },
        "82d2939480614ef5b2c7bcb382650bc5": {
          "model_module": "@jupyter-widgets/controls",
          "model_name": "SliderStyleModel",
          "model_module_version": "1.5.0",
          "state": {
            "_view_name": "StyleView",
            "handle_color": null,
            "_model_name": "SliderStyleModel",
            "description_width": "",
            "_view_module": "@jupyter-widgets/base",
            "_model_module_version": "1.5.0",
            "_view_count": null,
            "_view_module_version": "1.2.0",
            "_model_module": "@jupyter-widgets/controls"
          }
        },
        "3213f5a3e067455ea13fabd76d9316f6": {
          "model_module": "@jupyter-widgets/base",
          "model_name": "LayoutModel",
          "model_module_version": "1.2.0",
          "state": {
            "_view_name": "LayoutView",
            "grid_template_rows": null,
            "right": null,
            "justify_content": null,
            "_view_module": "@jupyter-widgets/base",
            "overflow": null,
            "_model_module_version": "1.2.0",
            "_view_count": null,
            "flex_flow": null,
            "width": null,
            "min_width": null,
            "border": null,
            "align_items": null,
            "bottom": null,
            "_model_module": "@jupyter-widgets/base",
            "top": null,
            "grid_column": null,
            "overflow_y": null,
            "overflow_x": null,
            "grid_auto_flow": null,
            "grid_area": null,
            "grid_template_columns": null,
            "flex": null,
            "_model_name": "LayoutModel",
            "justify_items": null,
            "grid_row": null,
            "max_height": null,
            "align_content": null,
            "visibility": null,
            "align_self": null,
            "height": null,
            "min_height": null,
            "padding": null,
            "grid_auto_rows": null,
            "grid_gap": null,
            "max_width": null,
            "order": null,
            "_view_module_version": "1.2.0",
            "grid_template_areas": null,
            "object_position": null,
            "object_fit": null,
            "grid_auto_columns": null,
            "margin": null,
            "display": null,
            "left": null
          }
        },
        "6692f80377e444c7a616caab1da12e01": {
          "model_module": "@jupyter-widgets/base",
          "model_name": "LayoutModel",
          "model_module_version": "1.2.0",
          "state": {
            "_view_name": "LayoutView",
            "grid_template_rows": null,
            "right": null,
            "justify_content": null,
            "_view_module": "@jupyter-widgets/base",
            "overflow": null,
            "_model_module_version": "1.2.0",
            "_view_count": null,
            "flex_flow": null,
            "width": null,
            "min_width": null,
            "border": null,
            "align_items": null,
            "bottom": null,
            "_model_module": "@jupyter-widgets/base",
            "top": null,
            "grid_column": null,
            "overflow_y": null,
            "overflow_x": null,
            "grid_auto_flow": null,
            "grid_area": null,
            "grid_template_columns": null,
            "flex": null,
            "_model_name": "LayoutModel",
            "justify_items": null,
            "grid_row": null,
            "max_height": null,
            "align_content": null,
            "visibility": null,
            "align_self": null,
            "height": null,
            "min_height": null,
            "padding": null,
            "grid_auto_rows": null,
            "grid_gap": null,
            "max_width": null,
            "order": null,
            "_view_module_version": "1.2.0",
            "grid_template_areas": null,
            "object_position": null,
            "object_fit": null,
            "grid_auto_columns": null,
            "margin": null,
            "display": null,
            "left": null
          }
        }
      }
    }
  },
  "cells": [
    {
      "cell_type": "markdown",
      "metadata": {
        "id": "view-in-github",
        "colab_type": "text"
      },
      "source": [
        "<a href=\"https://colab.research.google.com/github/ariaanthor/Medical-Imaging-to-Detect-Pneumonia/blob/main/Pneumonia_Detection_Medical_Imaging.ipynb\" target=\"_parent\"><img src=\"https://colab.research.google.com/assets/colab-badge.svg\" alt=\"Open In Colab\"/></a>"
      ]
    },
    {
      "cell_type": "code",
      "metadata": {
        "id": "zQXO9EIy2ioQ",
        "cellView": "form"
      },
      "source": [
        "#@title Run to load data and helper functions\n",
        "import matplotlib.pyplot as plt\n",
        "import os\n",
        "import numpy as np\n",
        "from pathlib import Path\n",
        "import tensorflow as tf\n",
        "from tensorflow.keras.layers import Conv2D, concatenate, MaxPool2D, UpSampling2D\n",
        "from sklearn.model_selection import train_test_split\n",
        "import gdown\n",
        "from ipywidgets import interact, IntSlider\n",
        "\n",
        "IMG_PATH = \"reduced/imgs\"\n",
        "MASK_PATH = \"reduced/masks\"\n",
        "EPOCHS = 40\n",
        "\n",
        "gdown.download(\"https://drive.google.com/uc?id=1_2UHVdkeuCHwwcb2RGs0cosNw8l_YoAE\", \"reduced.zip\", True)\n",
        "!unzip -oq reduced.zip\n",
        "\n",
        "np.random.seed(12)\n",
        "tf.random.set_seed(12)\n",
        "\n",
        "def load():\n",
        "    imgs_paths = sorted([Path(IMG_PATH) / p for p in os.listdir(IMG_PATH)])\n",
        "    masks_paths = sorted([Path(MASK_PATH) / p for p in os.listdir(MASK_PATH)])\n",
        "    imgs = [plt.imread(p) for p in imgs_paths]\n",
        "    masks = [plt.imread(p)[:, :, 0][:, :, None] > 0.5 for p in masks_paths]\n",
        "    imgs, masks = np.array(imgs)[:,:,:,0:1], np.array(masks).astype(float)\n",
        "    imgs_train, imgs_test, masks_train, masks_test = train_test_split(\n",
        "        imgs, masks, test_size=0.2, shuffle=False\n",
        "    )\n",
        "    return imgs_train, imgs_test, masks_train, masks_test\n",
        "\n",
        "def show_lung_mask_sbs(lung, mask):\n",
        "    fig, (a1, a2) = plt.subplots(1, 2)\n",
        "    a1.imshow(lung.squeeze(), cmap = 'gray')\n",
        "    a2.imshow(mask.squeeze(), cmap = 'gray')\n",
        "    a1.set_title(\"lung\")\n",
        "    a2.set_title(\"mask\")\n",
        "\n",
        "\n",
        "def show_lung_mask_pred_sbs(lung, mask, pred):\n",
        "    fig, (a1, a2, a3) = plt.subplots(1, 3)\n",
        "    a1.imshow(lung.squeeze(), cmap = 'gray')\n",
        "    a2.imshow(mask.squeeze(), cmap = 'gray')\n",
        "    a3.imshow(pred.squeeze(), cmap = 'gray')\n",
        "    a1.set_title(\"lung\")\n",
        "    a2.set_title(\"mask\")\n",
        "    a3.set_title(\"predicted mask\")\n",
        "\n",
        "def dice_loss(y_true, y_pred):\n",
        "    numerator = 2 * tf.reduce_sum(y_true * y_pred, axis=(1, 2, 3))\n",
        "    denominator = tf.reduce_sum(y_true + y_pred, axis=(1, 2, 3))\n",
        "    return 1 - numerator / denominator\n",
        "\n",
        "class ShowLearning(tf.keras.callbacks.Callback):\n",
        "    def __init__(self, data, masks, name):\n",
        "        self.data = data\n",
        "        self.masks = masks\n",
        "        self.fig_path = f\"lung/figs/{name}\"\n",
        "        if not os.path.exists(self.fig_path):\n",
        "            os.makedirs(self.fig_path)\n",
        "        super().__init__()\n",
        "\n",
        "    def on_epoch_begin(self, epoch, logs=None):\n",
        "        rand_index = np.random.randint(0, len(self.data))\n",
        "        rand_img = self.data[rand_index][None, :, :, :]\n",
        "        mask = self.masks[rand_index][None, :, :, :]\n",
        "        preds = self.model(rand_img).numpy() > 0.5\n",
        "        show_lung_mask_pred_sbs(rand_img, mask, preds)\n",
        "        plt.savefig(f\"{self.fig_path}/epoch{epoch}.png\")\n",
        "        plt.close()\n",
        "\n",
        "def show_training_image(name, epoch):\n",
        "  im = plt.imread(f'lung/figs/{name}/epoch{epoch}.png')\n",
        "  plt.imshow(im)\n",
        "\n",
        "def dice_loss(y_true, y_pred):\n",
        "    numerator = 2 * tf.reduce_sum(y_true * y_pred, axis=(1, 2, 3))\n",
        "    denominator = tf.reduce_sum(y_true + y_pred, axis=(1, 2, 3))\n",
        "    return 1 - numerator / denominator\n"
      ],
      "execution_count": null,
      "outputs": []
    },
    {
      "cell_type": "code",
      "metadata": {
        "id": "K4fFbTCT3-EJ",
        "colab": {
          "base_uri": "https://localhost:8080/",
          "height": 34
        },
        "outputId": "193973c8-f302-4622-86c6-eca047118603"
      },
      "source": [
        "imgs_train, imgs_test, masks_train, masks_test = load()\n",
        "print(imgs_train.shape, imgs_test.shape, masks_train.shape, masks_test.shape)"
      ],
      "execution_count": null,
      "outputs": [
        {
          "output_type": "stream",
          "text": [
            "(213, 64, 64, 1) (54, 64, 64, 1) (213, 64, 64, 1) (54, 64, 64, 1)\n"
          ],
          "name": "stdout"
        }
      ]
    },
    {
      "cell_type": "code",
      "metadata": {
        "id": "W5a3mNlo4yti",
        "colab": {
          "base_uri": "https://localhost:8080/",
          "height": 216
        },
        "outputId": "560c1eef-2c09-4087-925f-e00cfaa20617"
      },
      "source": [
        "img_num = 20\n",
        "show_lung_mask_sbs(imgs_train[img_num], masks_train[img_num])"
      ],
      "execution_count": null,
      "outputs": [
        {
          "output_type": "display_data",
          "data": {
            "image/png": "[encoded data removed]",
            "text/plain": [
              "<Figure size 432x288 with 2 Axes>"
            ]
          },
          "metadata": {
            "tags": [],
            "needs_background": "light"
          }
        }
      ]
    },
    {
      "cell_type": "code",
      "metadata": {
        "id": "k10axuB76dtL"
      },
      "source": [
        "def SimpleConvModel():\n",
        "    model = tf.keras.models.Sequential(\n",
        "        [\n",
        "Conv2D(filters = 16, kernel_size = 3, strides = 1, padding='same', activation='relu'),\n",
        "Conv2D(filters = 32, kernel_size = 3, strides = 1, padding='same', activation='relu'),\n",
        "Conv2D(filters = 16, kernel_size = 3, strides = 1, padding='same', activation='relu'),\n",
        "            Conv2D(filters = 1, kernel_size = 3, strides = 1, padding=\"same\", activation=\"sigmoid\"),\n",
        "        ]\n",
        "    ) \n",
        "    return model\n",
        "\n",
        "model = SimpleConvModel()"
      ],
      "execution_count": null,
      "outputs": []
    },
    {
      "cell_type": "code",
      "metadata": {
        "id": "begYuiJfOYoq",
        "colab": {
          "base_uri": "https://localhost:8080/",
          "height": 1000
        },
        "outputId": "8ee36222-f447-4b66-c46b-eac7a4b6e000"
      },
      "source": [
        "def train(model, imgs, masks, loss, name, epochs):\n",
        "    optimizer = tf.optimizers.Adam(learning_rate=0.0003)\n",
        "    model.compile(\n",
        "        optimizer=optimizer,\n",
        "        loss=loss,\n",
        "        metrics=[\"accuracy\"],\n",
        "    )\n",
        "    model.fit(\n",
        "        imgs,\n",
        "        masks,\n",
        "        epochs=epochs,\n",
        "        callbacks=[ShowLearning(imgs, masks, name)],\n",
        "    )\n",
        "\n",
        "train(model, imgs_train, masks_train, tf.losses.BinaryCrossentropy(), 'simple_conv', EPOCHS)"
      ],
      "execution_count": null,
      "outputs": [
        {
          "output_type": "stream",
          "text": [
            "Epoch 1/40\n",
            "7/7 [==============================] - 0s 6ms/step - loss: 0.6840 - accuracy: 0.7393\n",
            "Epoch 2/40\n",
            "7/7 [==============================] - 0s 5ms/step - loss: 0.6670 - accuracy: 0.7662\n",
            "Epoch 3/40\n",
            "7/7 [==============================] - 0s 5ms/step - loss: 0.6469 - accuracy: 0.7662\n",
            "Epoch 4/40\n",
            "7/7 [==============================] - 0s 6ms/step - loss: 0.6224 - accuracy: 0.7662\n",
            "Epoch 5/40\n",
            "7/7 [==============================] - 0s 5ms/step - loss: 0.5948 - accuracy: 0.7662\n",
            "Epoch 6/40\n",
            "7/7 [==============================] - 0s 5ms/step - loss: 0.5684 - accuracy: 0.7662\n",
            "Epoch 7/40\n",
            "7/7 [==============================] - 0s 5ms/step - loss: 0.5501 - accuracy: 0.7662\n",
            "Epoch 8/40\n",
            "7/7 [==============================] - 0s 5ms/step - loss: 0.5452 - accuracy: 0.7662\n",
            "Epoch 9/40\n",
            "7/7 [==============================] - 0s 5ms/step - loss: 0.5431 - accuracy: 0.7662\n",
            "Epoch 10/40\n",
            "7/7 [==============================] - 0s 6ms/step - loss: 0.5392 - accuracy: 0.7662\n",
            "Epoch 11/40\n",
            "7/7 [==============================] - 0s 5ms/step - loss: 0.5361 - accuracy: 0.7662\n",
            "Epoch 12/40\n",
            "7/7 [==============================] - 0s 5ms/step - loss: 0.5334 - accuracy: 0.7662\n",
            "Epoch 13/40\n",
            "7/7 [==============================] - 0s 5ms/step - loss: 0.5302 - accuracy: 0.7662\n",
            "Epoch 14/40\n",
            "7/7 [==============================] - 0s 6ms/step - loss: 0.5268 - accuracy: 0.7662\n",
            "Epoch 15/40\n",
            "7/7 [==============================] - 0s 5ms/step - loss: 0.5230 - accuracy: 0.7662\n",
            "Epoch 16/40\n",
            "7/7 [==============================] - 0s 5ms/step - loss: 0.5188 - accuracy: 0.7665\n",
            "Epoch 17/40\n",
            "7/7 [==============================] - 0s 5ms/step - loss: 0.5144 - accuracy: 0.7677\n",
            "Epoch 18/40\n",
            "7/7 [==============================] - 0s 5ms/step - loss: 0.5098 - accuracy: 0.7706\n",
            "Epoch 19/40\n",
            "7/7 [==============================] - 0s 5ms/step - loss: 0.5046 - accuracy: 0.7750\n",
            "Epoch 20/40\n",
            "7/7 [==============================] - 0s 5ms/step - loss: 0.4997 - accuracy: 0.7774\n",
            "Epoch 21/40\n",
            "7/7 [==============================] - 0s 5ms/step - loss: 0.4946 - accuracy: 0.7795\n",
            "Epoch 22/40\n",
            "7/7 [==============================] - 0s 5ms/step - loss: 0.4895 - accuracy: 0.7812\n",
            "Epoch 23/40\n",
            "7/7 [==============================] - 0s 5ms/step - loss: 0.4843 - accuracy: 0.7826\n",
            "Epoch 24/40\n",
            "7/7 [==============================] - 0s 5ms/step - loss: 0.4791 - accuracy: 0.7854\n",
            "Epoch 25/40\n",
            "7/7 [==============================] - 0s 5ms/step - loss: 0.4738 - accuracy: 0.7890\n",
            "Epoch 26/40\n",
            "7/7 [==============================] - 0s 5ms/step - loss: 0.4686 - accuracy: 0.7916\n",
            "Epoch 27/40\n",
            "7/7 [==============================] - 0s 5ms/step - loss: 0.4634 - accuracy: 0.7952\n",
            "Epoch 28/40\n",
            "7/7 [==============================] - 0s 6ms/step - loss: 0.4581 - accuracy: 0.7986\n",
            "Epoch 29/40\n",
            "7/7 [==============================] - 0s 5ms/step - loss: 0.4541 - accuracy: 0.7993\n",
            "Epoch 30/40\n",
            "7/7 [==============================] - 0s 6ms/step - loss: 0.4502 - accuracy: 0.8014\n",
            "Epoch 31/40\n",
            "7/7 [==============================] - 0s 5ms/step - loss: 0.4444 - accuracy: 0.8045\n",
            "Epoch 32/40\n",
            "7/7 [==============================] - 0s 6ms/step - loss: 0.4402 - accuracy: 0.8066\n",
            "Epoch 33/40\n",
            "7/7 [==============================] - 0s 5ms/step - loss: 0.4368 - accuracy: 0.8079\n",
            "Epoch 34/40\n",
            "7/7 [==============================] - 0s 5ms/step - loss: 0.4334 - accuracy: 0.8083\n",
            "Epoch 35/40\n",
            "7/7 [==============================] - 0s 5ms/step - loss: 0.4285 - accuracy: 0.8096\n",
            "Epoch 36/40\n",
            "7/7 [==============================] - 0s 5ms/step - loss: 0.4256 - accuracy: 0.8121\n",
            "Epoch 37/40\n",
            "7/7 [==============================] - 0s 5ms/step - loss: 0.4235 - accuracy: 0.8129\n",
            "Epoch 38/40\n",
            "7/7 [==============================] - 0s 5ms/step - loss: 0.4191 - accuracy: 0.8143\n",
            "Epoch 39/40\n",
            "7/7 [==============================] - 0s 5ms/step - loss: 0.4169 - accuracy: 0.8137\n",
            "Epoch 40/40\n",
            "7/7 [==============================] - 0s 5ms/step - loss: 0.4175 - accuracy: 0.8151\n"
          ],
          "name": "stdout"
        }
      ]
    },
    {
      "cell_type": "code",
      "metadata": {
        "id": "w9uVFgbHR6No",
        "colab": {
          "base_uri": "https://localhost:8080/",
          "height": 289
        },
        "outputId": "cd610fe8-8ec4-4568-933a-41c8784cb663"
      },
      "source": [
        "output_shape_guess = (None, 64, 64, 1)\n",
        "assert model.output_shape == output_shape_guess\n",
        "model.summary()"
      ],
      "execution_count": null,
      "outputs": [
        {
          "output_type": "stream",
          "text": [
            "Model: \"sequential_2\"\n",
            "_________________________________________________________________\n",
            "Layer (type)                 Output Shape              Param #   \n",
            "=================================================================\n",
            "conv2d_5 (Conv2D)            (None, 64, 64, 16)        160       \n",
            "_________________________________________________________________\n",
            "conv2d_6 (Conv2D)            (None, 64, 64, 32)        4640      \n",
            "_________________________________________________________________\n",
            "conv2d_7 (Conv2D)            (None, 64, 64, 16)        4624      \n",
            "_________________________________________________________________\n",
            "conv2d_8 (Conv2D)            (None, 64, 64, 1)         145       \n",
            "=================================================================\n",
            "Total params: 9,569\n",
            "Trainable params: 9,569\n",
            "Non-trainable params: 0\n",
            "_________________________________________________________________\n"
          ],
          "name": "stdout"
        }
      ]
    },
    {
      "cell_type": "code",
      "metadata": {
        "id": "MiQRiWThOjsV",
        "colab": {
          "base_uri": "https://localhost:8080/",
          "height": 301,
          "referenced_widgets": [
            "4ab7ab1392a840299bfb42335edfaf42",
            "348362beb0934fe0a4e68c5f762711fc",
            "4cede9271c2447508a7095ade5cb0b8d",
            "1a7e43bd3edd4f009b494f26e3174c5d",
            "a4bccdbaef584cd4958dc47ab7dbe415",
            "249d644b906044be94e2b64872f08ece",
            "61e3372e4b9140639223e41f06b1dec6"
          ]
        },
        "outputId": "7f42fad2-d722-4c4a-b9bc-49b8673ed971"
      },
      "source": [
        "interact(lambda epoch: show_training_image('simple_conv', epoch), epoch=(0, EPOCHS-1));"
      ],
      "execution_count": null,
      "outputs": [
        {
          "output_type": "display_data",
          "data": {
            "application/vnd.jupyter.widget-view+json": {
              "model_id": "4ab7ab1392a840299bfb42335edfaf42",
              "version_minor": 0,
              "version_major": 2
            },
            "text/plain": [
              "interactive(children=(IntSlider(value=19, description='epoch', max=39), Output()), _dom_classes=('widget-inter…"
            ]
          },
          "metadata": {
            "tags": []
          }
        }
      ]
    },
    {
      "cell_type": "code",
      "metadata": {
        "id": "R2SnzCg_G3_K",
        "colab": {
          "base_uri": "https://localhost:8080/",
          "height": 34
        },
        "outputId": "d1201f3b-d005-4944-eeca-af1155ad2f5d"
      },
      "source": [
        "(masks_train.sum()/ masks_train.size) * 100"
      ],
      "execution_count": null,
      "outputs": [
        {
          "output_type": "execute_result",
          "data": {
            "text/plain": [
              "23.375605193661972"
            ]
          },
          "metadata": {
            "tags": []
          },
          "execution_count": 20
        }
      ]
    },
    {
      "cell_type": "code",
      "metadata": {
        "id": "HxqzV2wZO_UH"
      },
      "source": [
        "def dice(true_mask, predicted_mask):\n",
        "    true_mask, predicted_mask = true_mask.astype(bool).flatten(), predicted_mask.astype(bool).flatten()\n",
        "    return (2*(sum(true_mask & predicted_mask)) / (sum(true_mask) + sum(predicted_mask)))"
      ],
      "execution_count": null,
      "outputs": []
    },
    {
      "cell_type": "code",
      "metadata": {
        "id": "2dTSJR3RNfue",
        "colab": {
          "base_uri": "https://localhost:8080/",
          "height": 179
        },
        "outputId": "8465b748-84e5-47a3-bf81-f3cc3214e20f"
      },
      "source": [
        "img_num = 20\n",
        "\n",
        "img = np.expand_dims(imgs_train[img_num],0)\n",
        "true_mask = masks_train[img_num]\n",
        "pred_mask = model.predict(img) > 0.5\n",
        "\n",
        "show_lung_mask_pred_sbs(img, true_mask, pred_mask)\n",
        "\n",
        "print(\"Dice score:\", dice(true_mask, pred_mask))"
      ],
      "execution_count": null,
      "outputs": [
        {
          "output_type": "stream",
          "text": [
            "Dice score: 0.41117145073700545\n"
          ],
          "name": "stdout"
        },
        {
          "output_type": "display_data",
          "data": {
            "image/png": "[encoded data removed]",
            "text/plain": [
              "<Figure size 432x288 with 3 Axes>"
            ]
          },
          "metadata": {
            "tags": [],
            "needs_background": "light"
          }
        }
      ]
    },
    {
      "cell_type": "code",
      "metadata": {
        "id": "eSpaJDlWQpMa",
        "colab": {
          "base_uri": "https://localhost:8080/",
          "height": 1000
        },
        "outputId": "b41673fb-2b35-420a-94ee-ebeb2a2312a9"
      },
      "source": [
        "model_with_dice = SimpleConvModel()\n",
        "train(model_with_dice, imgs_train, masks_train, dice_loss, 'simple_conv_with_dice', EPOCHS)"
      ],
      "execution_count": null,
      "outputs": [
        {
          "output_type": "stream",
          "text": [
            "Epoch 1/40\n",
            "7/7 [==============================] - 0s 6ms/step - loss: 0.6861 - accuracy: 0.3819\n",
            "Epoch 2/40\n",
            "7/7 [==============================] - 0s 5ms/step - loss: 0.6848 - accuracy: 0.2638\n",
            "Epoch 3/40\n",
            "7/7 [==============================] - 0s 5ms/step - loss: 0.6828 - accuracy: 0.2393\n",
            "Epoch 4/40\n",
            "7/7 [==============================] - 0s 5ms/step - loss: 0.6799 - accuracy: 0.2346\n",
            "Epoch 5/40\n",
            "7/7 [==============================] - 0s 5ms/step - loss: 0.6754 - accuracy: 0.2339\n",
            "Epoch 6/40\n",
            "7/7 [==============================] - 0s 6ms/step - loss: 0.6689 - accuracy: 0.2338\n",
            "Epoch 7/40\n",
            "7/7 [==============================] - 0s 5ms/step - loss: 0.6600 - accuracy: 0.2338\n",
            "Epoch 8/40\n",
            "7/7 [==============================] - 0s 5ms/step - loss: 0.6484 - accuracy: 0.2338\n",
            "Epoch 9/40\n",
            "7/7 [==============================] - 0s 5ms/step - loss: 0.6359 - accuracy: 0.2340\n",
            "Epoch 10/40\n",
            "7/7 [==============================] - 0s 5ms/step - loss: 0.6243 - accuracy: 0.2376\n",
            "Epoch 11/40\n",
            "7/7 [==============================] - 0s 5ms/step - loss: 0.6150 - accuracy: 0.2515\n",
            "Epoch 12/40\n",
            "7/7 [==============================] - 0s 5ms/step - loss: 0.6066 - accuracy: 0.2858\n",
            "Epoch 13/40\n",
            "7/7 [==============================] - 0s 5ms/step - loss: 0.5985 - accuracy: 0.3467\n",
            "Epoch 14/40\n",
            "7/7 [==============================] - 0s 5ms/step - loss: 0.5914 - accuracy: 0.3945\n",
            "Epoch 15/40\n",
            "7/7 [==============================] - 0s 5ms/step - loss: 0.5842 - accuracy: 0.4216\n",
            "Epoch 16/40\n",
            "7/7 [==============================] - 0s 6ms/step - loss: 0.5776 - accuracy: 0.4395\n",
            "Epoch 17/40\n",
            "7/7 [==============================] - 0s 5ms/step - loss: 0.5717 - accuracy: 0.4537\n",
            "Epoch 18/40\n",
            "7/7 [==============================] - 0s 5ms/step - loss: 0.5669 - accuracy: 0.4625\n",
            "Epoch 19/40\n",
            "7/7 [==============================] - 0s 5ms/step - loss: 0.5632 - accuracy: 0.4712\n",
            "Epoch 20/40\n",
            "7/7 [==============================] - 0s 5ms/step - loss: 0.5601 - accuracy: 0.4766\n",
            "Epoch 21/40\n",
            "7/7 [==============================] - 0s 5ms/step - loss: 0.5573 - accuracy: 0.4809\n",
            "Epoch 22/40\n",
            "7/7 [==============================] - 0s 5ms/step - loss: 0.5548 - accuracy: 0.4891\n",
            "Epoch 23/40\n",
            "7/7 [==============================] - 0s 5ms/step - loss: 0.5523 - accuracy: 0.4944\n",
            "Epoch 24/40\n",
            "7/7 [==============================] - 0s 5ms/step - loss: 0.5497 - accuracy: 0.4961\n",
            "Epoch 25/40\n",
            "7/7 [==============================] - 0s 6ms/step - loss: 0.5471 - accuracy: 0.5061\n",
            "Epoch 26/40\n",
            "7/7 [==============================] - 0s 5ms/step - loss: 0.5443 - accuracy: 0.5153\n",
            "Epoch 27/40\n",
            "7/7 [==============================] - 0s 5ms/step - loss: 0.5413 - accuracy: 0.5183\n",
            "Epoch 28/40\n",
            "7/7 [==============================] - 0s 5ms/step - loss: 0.5379 - accuracy: 0.5270\n",
            "Epoch 29/40\n",
            "7/7 [==============================] - 0s 5ms/step - loss: 0.5342 - accuracy: 0.5390\n",
            "Epoch 30/40\n",
            "7/7 [==============================] - 0s 5ms/step - loss: 0.5300 - accuracy: 0.5486\n",
            "Epoch 31/40\n",
            "7/7 [==============================] - 0s 5ms/step - loss: 0.5251 - accuracy: 0.5601\n",
            "Epoch 32/40\n",
            "7/7 [==============================] - 0s 5ms/step - loss: 0.5197 - accuracy: 0.5709\n",
            "Epoch 33/40\n",
            "7/7 [==============================] - 0s 5ms/step - loss: 0.5134 - accuracy: 0.5771\n",
            "Epoch 34/40\n",
            "7/7 [==============================] - 0s 5ms/step - loss: 0.5091 - accuracy: 0.5961\n",
            "Epoch 35/40\n",
            "7/7 [==============================] - 0s 5ms/step - loss: 0.5019 - accuracy: 0.6469\n",
            "Epoch 36/40\n",
            "7/7 [==============================] - 0s 5ms/step - loss: 0.4977 - accuracy: 0.6044\n",
            "Epoch 37/40\n",
            "7/7 [==============================] - 0s 5ms/step - loss: 0.4923 - accuracy: 0.6890\n",
            "Epoch 38/40\n",
            "7/7 [==============================] - 0s 5ms/step - loss: 0.4849 - accuracy: 0.6971\n",
            "Epoch 39/40\n",
            "7/7 [==============================] - 0s 5ms/step - loss: 0.4804 - accuracy: 0.7715\n",
            "Epoch 40/40\n",
            "7/7 [==============================] - 0s 6ms/step - loss: 0.4801 - accuracy: 0.6977\n"
          ],
          "name": "stdout"
        }
      ]
    },
    {
      "cell_type": "code",
      "metadata": {
        "id": "HRoHqgcoQpO8",
        "colab": {
          "base_uri": "https://localhost:8080/",
          "height": 301,
          "referenced_widgets": [
            "4c0ca1238a7a4c1d8fc8de1f0bfdebed",
            "3f44594485de4f97a1c83ea21c2f66bd",
            "c2ed023143a74eb3b7deb2551f820990",
            "efe5a6023bcb479e8644e8b4273ff021",
            "3638de72a4c442f6adb868484690ba3b",
            "b44d5540e2b14b94aac191049d7d0eba",
            "f783d88a7ac94ece97606b662095ca0c"
          ]
        },
        "outputId": "d4f6fa00-8e1a-4847-ae18-3c708fed394c"
      },
      "source": [
        "interact(lambda epoch: show_training_image('simple_conv_with_dice', epoch), epoch=(0, EPOCHS-1));"
      ],
      "execution_count": null,
      "outputs": [
        {
          "output_type": "display_data",
          "data": {
            "application/vnd.jupyter.widget-view+json": {
              "model_id": "4c0ca1238a7a4c1d8fc8de1f0bfdebed",
              "version_minor": 0,
              "version_major": 2
            },
            "text/plain": [
              "interactive(children=(IntSlider(value=19, description='epoch', max=39), Output()), _dom_classes=('widget-inter…"
            ]
          },
          "metadata": {
            "tags": []
          }
        }
      ]
    },
    {
      "cell_type": "code",
      "metadata": {
        "id": "43smgnsyQpT8"
      },
      "source": [
        "def section(c1, c2):\n",
        "    return tf.keras.Sequential(\n",
        "        [\n",
        "            Conv2D(c1, 3, padding=\"same\", activation=\"relu\"),\n",
        "            Conv2D(c2, 3, padding=\"same\", activation=\"relu\"),\n",
        "        ]\n",
        "    )\n",
        "\n",
        "class U_Net(tf.keras.Model):\n",
        "    def __init__(self):\n",
        "        super(U_Net, self).__init__()\n",
        "        self.s1 = section(16, 16)\n",
        "        self.s2 = section(32, 32)\n",
        "        self.s3 = section(32, 64)\n",
        "        self.s4 = section(32, 32)\n",
        "        self.s5 = section(16, 16)\n",
        "        self.final_conv = Conv2D(1, 3, padding=\"same\", activation=\"sigmoid\")\n",
        "        self.m1, self.m2 = MaxPool2D(2), MaxPool2D(2)\n",
        "        self.u1, self.u2 = UpSampling2D(2), UpSampling2D(2)\n",
        "\n",
        "    def call(self, inputs):\n",
        "        i1 = self.s1(inputs)\n",
        "        i2 = self.s2(self.m1(i1))\n",
        "        i3 = self.s3(self.m2(i2))\n",
        "        i4 = self.s4(concatenate([i2, self.u1(i3)]))\n",
        "        i5 = self.s5(concatenate([i1, self.u2(i4)]))\n",
        "        x = self.final_conv(i5)\n",
        "        return x"
      ],
      "execution_count": null,
      "outputs": []
    },
    {
      "cell_type": "code",
      "metadata": {
        "id": "B24-_e9-QpXr"
      },
      "source": [
        "unet = U_Net()"
      ],
      "execution_count": null,
      "outputs": []
    },
    {
      "cell_type": "code",
      "metadata": {
        "id": "MeKfaYomYJY6",
        "colab": {
          "base_uri": "https://localhost:8080/",
          "height": 1000
        },
        "outputId": "020a5abf-49d4-4846-fece-6a19c6eab26a"
      },
      "source": [
        "train(unet, imgs_train, masks_train, dice_loss, 'unet_with_dice', epochs=EPOCHS)"
      ],
      "execution_count": null,
      "outputs": [
        {
          "output_type": "stream",
          "text": [
            "Epoch 1/40\n",
            "7/7 [==============================] - 0s 24ms/step - loss: 0.6864 - accuracy: 0.4589\n",
            "Epoch 2/40\n",
            "7/7 [==============================] - 0s 10ms/step - loss: 0.6853 - accuracy: 0.3061\n",
            "Epoch 3/40\n",
            "7/7 [==============================] - 0s 10ms/step - loss: 0.6796 - accuracy: 0.2393\n",
            "Epoch 4/40\n",
            "7/7 [==============================] - 0s 10ms/step - loss: 0.6484 - accuracy: 0.2340\n",
            "Epoch 5/40\n",
            "7/7 [==============================] - 0s 9ms/step - loss: 0.6047 - accuracy: 0.2339\n",
            "Epoch 6/40\n",
            "7/7 [==============================] - 0s 10ms/step - loss: 0.6028 - accuracy: 0.2396\n",
            "Epoch 7/40\n",
            "7/7 [==============================] - 0s 10ms/step - loss: 0.5822 - accuracy: 0.3248\n",
            "Epoch 8/40\n",
            "7/7 [==============================] - 0s 10ms/step - loss: 0.5332 - accuracy: 0.5272\n",
            "Epoch 9/40\n",
            "7/7 [==============================] - 0s 9ms/step - loss: 0.4596 - accuracy: 0.6976\n",
            "Epoch 10/40\n",
            "7/7 [==============================] - 0s 11ms/step - loss: 0.3371 - accuracy: 0.8798\n",
            "Epoch 11/40\n",
            "7/7 [==============================] - 0s 9ms/step - loss: 0.2453 - accuracy: 0.9016\n",
            "Epoch 12/40\n",
            "7/7 [==============================] - 0s 10ms/step - loss: 0.2192 - accuracy: 0.9012\n",
            "Epoch 13/40\n",
            "7/7 [==============================] - 0s 10ms/step - loss: 0.2050 - accuracy: 0.9099\n",
            "Epoch 14/40\n",
            "7/7 [==============================] - 0s 10ms/step - loss: 0.1907 - accuracy: 0.9145\n",
            "Epoch 15/40\n",
            "7/7 [==============================] - 0s 10ms/step - loss: 0.1840 - accuracy: 0.9166\n",
            "Epoch 16/40\n",
            "7/7 [==============================] - 0s 10ms/step - loss: 0.1688 - accuracy: 0.9253\n",
            "Epoch 17/40\n",
            "7/7 [==============================] - 0s 10ms/step - loss: 0.1588 - accuracy: 0.9293\n",
            "Epoch 18/40\n",
            "7/7 [==============================] - 0s 10ms/step - loss: 0.1496 - accuracy: 0.9342\n",
            "Epoch 19/40\n",
            "7/7 [==============================] - 0s 10ms/step - loss: 0.1398 - accuracy: 0.9387\n",
            "Epoch 20/40\n",
            "7/7 [==============================] - 0s 11ms/step - loss: 0.1359 - accuracy: 0.9404\n",
            "Epoch 21/40\n",
            "7/7 [==============================] - 0s 10ms/step - loss: 0.1265 - accuracy: 0.9453\n",
            "Epoch 22/40\n",
            "7/7 [==============================] - 0s 10ms/step - loss: 0.1210 - accuracy: 0.9478\n",
            "Epoch 23/40\n",
            "7/7 [==============================] - 0s 10ms/step - loss: 0.1217 - accuracy: 0.9479\n",
            "Epoch 24/40\n",
            "7/7 [==============================] - 0s 10ms/step - loss: 0.1158 - accuracy: 0.9505\n",
            "Epoch 25/40\n",
            "7/7 [==============================] - 0s 10ms/step - loss: 0.1112 - accuracy: 0.9521\n",
            "Epoch 26/40\n",
            "7/7 [==============================] - 0s 10ms/step - loss: 0.1105 - accuracy: 0.9524\n",
            "Epoch 27/40\n",
            "7/7 [==============================] - 0s 10ms/step - loss: 0.1070 - accuracy: 0.9541\n",
            "Epoch 28/40\n",
            "7/7 [==============================] - 0s 10ms/step - loss: 0.1088 - accuracy: 0.9529\n",
            "Epoch 29/40\n",
            "7/7 [==============================] - 0s 11ms/step - loss: 0.1035 - accuracy: 0.9555\n",
            "Epoch 30/40\n",
            "7/7 [==============================] - 0s 10ms/step - loss: 0.1048 - accuracy: 0.9547\n",
            "Epoch 31/40\n",
            "7/7 [==============================] - 0s 10ms/step - loss: 0.0998 - accuracy: 0.9570\n",
            "Epoch 32/40\n",
            "7/7 [==============================] - 0s 10ms/step - loss: 0.0970 - accuracy: 0.9582\n",
            "Epoch 33/40\n",
            "7/7 [==============================] - 0s 10ms/step - loss: 0.0990 - accuracy: 0.9575\n",
            "Epoch 34/40\n",
            "7/7 [==============================] - 0s 10ms/step - loss: 0.0985 - accuracy: 0.9573\n",
            "Epoch 35/40\n",
            "7/7 [==============================] - 0s 10ms/step - loss: 0.1063 - accuracy: 0.9545\n",
            "Epoch 36/40\n",
            "7/7 [==============================] - 0s 10ms/step - loss: 0.0951 - accuracy: 0.9590\n",
            "Epoch 37/40\n",
            "7/7 [==============================] - 0s 10ms/step - loss: 0.0924 - accuracy: 0.9602\n",
            "Epoch 38/40\n",
            "7/7 [==============================] - 0s 10ms/step - loss: 0.0913 - accuracy: 0.9611\n",
            "Epoch 39/40\n",
            "7/7 [==============================] - 0s 10ms/step - loss: 0.0911 - accuracy: 0.9606\n",
            "Epoch 40/40\n",
            "7/7 [==============================] - 0s 10ms/step - loss: 0.0870 - accuracy: 0.9628\n"
          ],
          "name": "stdout"
        }
      ]
    },
    {
      "cell_type": "code",
      "metadata": {
        "id": "0Nm0Af71ShNQ",
        "colab": {
          "base_uri": "https://localhost:8080/",
          "height": 301,
          "referenced_widgets": [
            "1b076227ad3c439e9955e31bfb1746c7",
            "e4c2517474d54bdcb307c4b22aec0a70",
            "04df85343ed54c41b1f3af81cc92c4f3",
            "1ab4ec5c221b4a6ea58e928214af8082",
            "6c5f54d675dd4fd6a961d53f342548a8",
            "d7bf009b4c984d5b8470c584960cfcc6",
            "046b3fb4ceab4dae8db0fc21e6e43f22"
          ]
        },
        "outputId": "776308e6-694a-4697-8f9e-f3675195e597"
      },
      "source": [
        "interact(lambda epoch: show_training_image('unet_with_dice', epoch), epoch=(0, EPOCHS-1));"
      ],
      "execution_count": null,
      "outputs": [
        {
          "output_type": "display_data",
          "data": {
            "application/vnd.jupyter.widget-view+json": {
              "model_id": "1b076227ad3c439e9955e31bfb1746c7",
              "version_minor": 0,
              "version_major": 2
            },
            "text/plain": [
              "interactive(children=(IntSlider(value=19, description='epoch', max=39), Output()), _dom_classes=('widget-inter…"
            ]
          },
          "metadata": {
            "tags": []
          }
        }
      ]
    },
    {
      "cell_type": "code",
      "metadata": {
        "id": "Px2uOdRURy2d",
        "colab": {
          "base_uri": "https://localhost:8080/",
          "height": 194,
          "referenced_widgets": [
            "b98b05a925ff47f085513067af93e697",
            "a59b13494fa24b00bda67234bfbffe17",
            "7dc64be1ab574f8ba58b95020962655f",
            "1274313a6861438f9acfb4b962847883",
            "82d2939480614ef5b2c7bcb382650bc5",
            "3213f5a3e067455ea13fabd76d9316f6",
            "6692f80377e444c7a616caab1da12e01"
          ]
        },
        "outputId": "300ee95a-8ab0-4c37-d5e9-97ea6a6fbb30"
      },
      "source": [
        "thresh = 0.5\n",
        "preds = unet(imgs_test).numpy()\n",
        "preds = preds >= thresh\n",
        "\n",
        "def show_preds_helper(imgs_test, masks_test, preds, ind):\n",
        "    show_lung_mask_pred_sbs(imgs_test[ind], masks_test[ind], preds[ind])\n",
        "    plt.show()\n",
        "\n",
        "interact(lambda i: show_preds_helper(imgs_test, masks_test, preds, i), i=(0, len(preds)-1));"
      ],
      "execution_count": null,
      "outputs": [
        {
          "output_type": "display_data",
          "data": {
            "application/vnd.jupyter.widget-view+json": {
              "model_id": "b98b05a925ff47f085513067af93e697",
              "version_minor": 0,
              "version_major": 2
            },
            "text/plain": [
              "interactive(children=(IntSlider(value=26, description='i', max=53), Output()), _dom_classes=('widget-interact'…"
            ]
          },
          "metadata": {
            "tags": []
          }
        }
      ]
    },
    {
      "cell_type": "markdown",
      "metadata": {
        "id": "ddKmoID902hi"
      },
      "source": [
        "[Dataset](https://www.kaggle.com/kmader/finding-lungs-in-ct-data/data?select=lung_stats.csv) used in training"
      ]
    }
  ]
}